{
 "cells": [
  {
   "cell_type": "code",
   "execution_count": 1,
   "metadata": {},
   "outputs": [
    {
     "name": "stdout",
     "output_type": "stream",
     "text": [
      "Press 'l' to simulate communication loss.\n",
      "Press 'r' to recover communication.\n",
      "Communication Recovered.\n",
      "Communication Loss Triggered.\n",
      "Communication Recovered.\n"
     ]
    }
   ],
   "source": [
    "import rospy\n",
    "from std_msgs.msg import Bool\n",
    "import time\n",
    "import threading\n",
    "\n",
    "def com_loss_publisher():\n",
    "    pub = rospy.Publisher('peg_visibility', Bool, queue_size=1)\n",
    "    rospy.init_node('peg_toggle', anonymous=True)\n",
    "\n",
    "    flag = False  # Initial state of communication (no loss)\n",
    "    hz = 200\n",
    "    rate = rospy.Rate(hz)  # 200hz\n",
    "\n",
    "    print(\"Press 'l' to simulate communication loss.\")\n",
    "    print(\"Press 'r' to recover communication.\")\n",
    "\n",
    "    def key_listener():\n",
    "        nonlocal flag\n",
    "        while not rospy.is_shutdown():\n",
    "            key = input().strip().lower()\n",
    "            if key == 'l':\n",
    "                flag = True\n",
    "                pub.publish(flag)\n",
    "                print(\"Communication Loss Triggered.\")\n",
    "            elif key == 'r':\n",
    "                flag = False\n",
    "                pub.publish(flag)\n",
    "                print(\"Communication Recovered.\")\n",
    "            elif key == 'q':\n",
    "                break\n",
    "\n",
    "    # Run the key listener in a separate thread to avoid blocking the main loop\n",
    "    key_thread = threading.Thread(target=key_listener)\n",
    "    key_thread.daemon = True\n",
    "    key_thread.start()\n",
    "\n",
    "    # Main loop just to maintain the ROS node activity\n",
    "    while not rospy.is_shutdown():\n",
    "        # Publish the current flag status periodically\n",
    "        pub.publish(flag)\n",
    "        rate.sleep()\n",
    "        \n",
    "\n",
    "com_loss_publisher()"
   ]
  }
 ],
 "metadata": {
  "kernelspec": {
   "display_name": "usr",
   "language": "python",
   "name": "python3"
  },
  "language_info": {
   "codemirror_mode": {
    "name": "ipython",
    "version": 3
   },
   "file_extension": ".py",
   "mimetype": "text/x-python",
   "name": "python",
   "nbconvert_exporter": "python",
   "pygments_lexer": "ipython3",
   "version": "3.8.10"
  }
 },
 "nbformat": 4,
 "nbformat_minor": 2
}
